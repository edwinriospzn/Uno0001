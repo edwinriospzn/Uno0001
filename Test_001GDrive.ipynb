{
 "cells": [
  {
   "cell_type": "markdown",
   "metadata": {
    "id": "wBnZoE4QdZt2"
   },
   "source": [
    "# la nostalgia del melómano\n",
    "\n"
   ]
  },
  {
   "cell_type": "markdown",
   "metadata": {
    "id": "KCtqeyxAjtMh"
   },
   "source": [
    "## Cap. uno\n",
    "### sección 1\n",
    "\n",
    "este es mi libro favorito\n",
    "[intro](https://librerianacional.com/producto/la-nostalgia-del-melomano)\n",
    "\n",
    "![LA NOSTALGIA](https://storage.googleapis.com/catalogo-libros/extralarge/f114a348-b75c-630e-d5a6-5cd30f7cdde5_imagen.jpg)\n",
    "\n",
    "*Letra cursiva*\n",
    "\n",
    "**Letra negrila**\n",
    "\n",
    "***Letra cursiva en negrila***\n",
    "\n",
    ">sangria\n"
   ]
  },
  {
   "cell_type": "markdown",
   "metadata": {
    "id": "2b34hVLKj2As"
   },
   "source": [
    "# Lenguaje Latex"
   ]
  },
  {
   "cell_type": "markdown",
   "metadata": {
    "id": "QxjUbnMsloHZ"
   },
   "source": [
    "El lenguaje LaTeX se usa para colocar ecucaciones matematicas de forma profesional...\n",
    "\n",
    "Se emplea para escribir textos cientificos\n",
    "\n",
    "$$Y=x^2+n^y$$\n",
    "\n",
    "$$\\frac{dc}{dt}=KC$$"
   ]
  },
  {
   "cell_type": "markdown",
   "metadata": {
    "id": "iqQgS5-WnzNj"
   },
   "source": [
    "# Codigo phyton"
   ]
  },
  {
   "cell_type": "code",
   "execution_count": 1,
   "metadata": {
    "colab": {
     "base_uri": "https://localhost:8080/"
    },
    "id": "ZthgU-Qxn171",
    "outputId": "c6ff323e-4127-42fa-b111-0b733ce795a6"
   },
   "outputs": [
    {
     "name": "stdout",
     "output_type": "stream",
     "text": [
      "hello friend...hello friend\n"
     ]
    }
   ],
   "source": [
    "print(\"hello friend...hello friend\")"
   ]
  },
  {
   "cell_type": "code",
   "execution_count": null,
   "metadata": {
    "id": "-xO1Zx91o5e8"
   },
   "outputs": [],
   "source": []
  }
 ],
 "metadata": {
  "colab": {
   "name": "Test_001GDrive.ipynb",
   "provenance": []
  },
  "kernelspec": {
   "display_name": "Python 3",
   "language": "python",
   "name": "python3"
  },
  "language_info": {
   "codemirror_mode": {
    "name": "ipython",
    "version": 3
   },
   "file_extension": ".py",
   "mimetype": "text/x-python",
   "name": "python",
   "nbconvert_exporter": "python",
   "pygments_lexer": "ipython3",
   "version": "3.8.3"
  }
 },
 "nbformat": 4,
 "nbformat_minor": 1
}
